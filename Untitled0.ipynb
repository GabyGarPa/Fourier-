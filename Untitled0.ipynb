{
  "nbformat": 4,
  "nbformat_minor": 0,
  "metadata": {
    "colab": {
      "provenance": [],
      "authorship_tag": "ABX9TyNKhMynNPLQ7gdL+mlKFRQm",
      "include_colab_link": true
    },
    "kernelspec": {
      "name": "python3",
      "display_name": "Python 3"
    },
    "language_info": {
      "name": "python"
    }
  },
  "cells": [
    {
      "cell_type": "markdown",
      "metadata": {
        "id": "view-in-github",
        "colab_type": "text"
      },
      "source": [
        "<a href=\"https://colab.research.google.com/github/GabyGarPa/Fourier-/blob/main/Untitled0.ipynb\" target=\"_parent\"><img src=\"https://colab.research.google.com/assets/colab-badge.svg\" alt=\"Open In Colab\"/></a>"
      ]
    },
    {
      "cell_type": "markdown",
      "source": [
        "# presentaciones-del-curso\n",
        "presentaciones del curso de temas aplicados de la matemática\n",
        "\n",
        "EXPOSICION 1\n",
        "\n",
        "Serie de Fourier\n",
        "\n",
        "Las series de Fourier son una herramienta matemática que permite descomponer una función periódica en una suma infinita de senos y cosenos. Esta descomposición se puede entender como una representación de la función en términos de ondas sinusoidales de diferentes frecuencias.\n",
        "\n",
        "![image](https://github.com/GabyGarPa/presentaciones-del-curso/assets/144290408/3cdd9d48-cf2d-42e9-8ab2-08184dc16a8c)\n",
        "\n",
        "Transformada de Fourier\n",
        "\n",
        "La transformada de Fourier es una extensión de las series de Fourier para funciones no periódicas. Mientras que las series de Fourier descomponen una función periódica en términos de senos y cosenos, la transformada de Fourier transforma una función del dominio del tiempo (o espacio) al dominio de la frecuencia.\n",
        "\n",
        "![image](https://github.com/GabyGarPa/presentaciones-del-curso/assets/144290408/0d078777-db5d-4ea6-842d-a43702ca656a)\n",
        "![image](https://github.com/GabyGarPa/presentaciones-del-curso/assets/144290408/716f58bf-11be-4875-abd6-8e5cab04a3ac)\n",
        "![image](https://github.com/GabyGarPa/presentaciones-del-curso/assets/144290408/e7119719-f64a-4185-8b88-e6f77f97510e)\n",
        "\n",
        "Problema principal\n",
        "\n",
        "Al transmitir una señal g(t) a través de un canal, hay problemas que pueden surgir debido al ruido del canal y a la no linealidad de ciertos componentes.\n",
        "Las señales de baja amplitud pueden quedar \"enmascaradas\" o no detectadas debido al ruido del canal.\n",
        "Las señales de alta amplitud pueden ser afectadas por la no linealidad de los componentes, lo que puede llevar a distorsiones.\n",
        "\n",
        "Solución propuesta\n",
        "\n",
        "Una solución a este problema es usar un proceso llamado \"companding\" instantáneo. En lugar de transmitir la señal original g(t), se transmite una señal modificada. Esta modificación se realiza utilizando una función ϕ(x) con propiedades específicas.\n",
        "\n",
        "Companding= comprensión-expansión\n",
        "\n",
        "Señales de baja amplitud se amplifiquen y las señales de alta amplitud se atenúen.\n",
        "Entonces esto nos va a permitir que la señal modificada se transmita y después se descomponga en el receptor para recuperar la señal original.\n",
        "\n",
        "Señales de banda limitada\n",
        "\n",
        "Una señal es banda limitada si contiene frecuencias solo en un rango específico. El companding instantáneo puede destruir esta propiedad.\n",
        "Entones se quiere suponer que las señales de banda limitada transmitidas son idénticas\n"
      ],
      "metadata": {
        "id": "6hVSgoiBxhg1"
      }
    },
    {
      "cell_type": "code",
      "source": [
        "# codigo\n",
        "from sympy import symbols, integrate, Function, oo\n",
        "\n",
        "# Definición de las variables y funciones\n",
        "t, u = symbols('t u')\n",
        "g1 = Function('g_1')(t)\n",
        "g2 = Function('g_2')(t)\n",
        "phi1 = Function('phi_1')(u)\n",
        "phi2 = Function('phi_2')(u)\n",
        "\n",
        "# Expresión para la integral\n",
        "expr = (phi1.subs(u, g1) - phi2.subs(u, g2)) * (g1 - g2)\n",
        "\n",
        "# Resolución de la integral\n",
        "result = integrate(expr, (t, -oo, oo))"
      ],
      "metadata": {
        "id": "XVUFr7WNxsyx"
      },
      "execution_count": 5,
      "outputs": []
    },
    {
      "cell_type": "markdown",
      "source": [
        "EXPOSICION 2\n",
        "\n",
        "curva de crecicmiento en longuitud y peso de una poblacion marina\n",
        "\n"
      ],
      "metadata": {
        "id": "CVyeYJlsynVw"
      }
    },
    {
      "cell_type": "markdown",
      "source": [
        "Curva de crecimiento en longitud y peso de una población marina\n",
        "\n",
        "La curva de crecimiento en longitud y peso de una población marina describe cómo crecen los individuos de esa población a lo largo del tiempo. Estas curvas son esenciales para entender la dinámica de las poblaciones y son fundamentales para la gestión y conservación de recursos marinos, especialmente en pesquerías.\n",
        "\n",
        "Existen varios modelos matemáticos para describir el crecimiento de organismos, y uno de los más utilizados en pesquerías es\n",
        "\n",
        "![image](https://github.com/GabyGarPa/presentaciones-del-curso/assets/144290408/a724351f-7ed1-41af-a257-593dbc46aa67)\n",
        "\n",
        "El estudio de las curvas de crecimiento en longitud y peso en pesquerías es esencial por varias razones:\n",
        "\n",
        "Gestión y regulación: La pesca sostenible requiere que se retiren de la población solo aquellos individuos que se han reproducido lo suficiente para mantener la población. Conocer la edad o tamaño en el que los peces maduran y empiezan a reproducirse ayuda a establecer tallas mínimas de captura.\n",
        "\n",
        "Mortalidad por pesca: A partir de los datos de talla y edad de los peces capturados, se pueden inferir tasas de mortalidad por pesca, lo que ayuda a determinar si la presión pesquera es demasiado alta y si es necesario implementar medidas de manejo.\n",
        "\n",
        "Efectos del esfuerzo pesquero: Si una población está siendo sobreexplotada, puede haber un cambio hacia la captura de individuos más jóvenes y pequeños. Conocer las curvas de crecimiento ayuda a identificar estos cambios y a reaccionar antes de que la población colapse.\n",
        "\n",
        "Dado que muchas pesquerías son una fuente vital de alimento, empleo y economía en muchas regiones del mundo, es esencial gestionarlas correctamente. Una gestión inadecuada puede llevar a la sobreexplotación y al colapso de la pesquería, con graves consecuencias económicas, sociales y ecológicas. Por eso, las herramientas y modelos que ayudan a entender y predecir el comportamiento de las poblaciones de peces, como las curvas de crecimiento, son fundamentales en este campo.\n",
        "\n",
        "Resolviendo un problema real\n",
        "\n",
        "![Captura de pantalla (2)](https://github.com/GabyGarPa/presentaciones-del-curso/assets/144290408/bb9316a8-9792-4803-97fa-52d7aae3d4fb)\n",
        "\n",
        "![image](https://github.com/GabyGarPa/presentaciones-del-curso/assets/144290408/0546a3bb-75b3-4dde-85e3-cac9196d8c38)\n",
        "\n",
        "![image](https://github.com/GabyGarPa/presentaciones-del-curso/assets/144290408/de9ed2b2-d53d-4a39-bc4f-664ff5df39b9)\n",
        "\n"
      ],
      "metadata": {
        "id": "wVYqABOpzQsF"
      }
    },
    {
      "cell_type": "code",
      "source": [
        "#codigo\n",
        "import numpy as np\n",
        "import matplotlib.pyplot as plt\n",
        "from scipy.optimize import curve_fit\n",
        "\n",
        "# Datos de la tabla\n",
        "edad = np.array([3, 4, 5, 6, 7, 8, 9, 10, 11, 12, 13, 14, 15])\n",
        "longitud = np.array([25.70, 28.40, 30.15, 31.65, 32.85, 33.65, 34.44, 34.97, 35.56, 36.03, 35.93, 37.04, 37.70])\n",
        "\n",
        "# Definir la función de la ecuación\n",
        "def funcion(edad, Lmax, C, k):\n",
        "    return Lmax + C * np.exp(-k * edad)\n",
        "\n",
        "# Usar curve_fit para encontrar los parámetros óptimos\n",
        "params_opt, params_cov = curve_fit(funcion, edad, longitud)\n",
        "\n",
        "# Graficar los datos y la curva ajustada\n",
        "plt.scatter(edad, longitud, label='Datos', color='red')\n",
        "plt.plot(edad, funcion(edad, *params_opt), label='Curva ajustada', color='blue')\n",
        "plt.xlabel('Edad (años)')\n",
        "plt.ylabel('Longitud total (cms.)')\n",
        "plt.legend()\n",
        "plt.title('Ajuste de curva')\n",
        "plt.show()\n",
        "\n",
        "print(f\"Lmax: {params_opt[0]:.2f}, C: {params_opt[1]:.2f}, k: {params_opt[2]:.2f}\")"
      ],
      "metadata": {
        "colab": {
          "base_uri": "https://localhost:8080/",
          "height": 544
        },
        "id": "iNO2RZ3_1SBE",
        "outputId": "94587c37-ac16-485b-d8c4-88b55ecf8e7a"
      },
      "execution_count": 4,
      "outputs": [
        {
          "output_type": "stream",
          "name": "stderr",
          "text": [
            "/usr/local/lib/python3.10/dist-packages/scipy/optimize/_minpack_py.py:1010: OptimizeWarning: Covariance of the parameters could not be estimated\n",
            "  warnings.warn('Covariance of the parameters could not be estimated',\n"
          ]
        },
        {
          "output_type": "display_data",
          "data": {
            "text/plain": [
              "<Figure size 640x480 with 1 Axes>"
            ],
            "image/png": "[encoded data removed]"
          },
          "metadata": {}
        },
        {
          "output_type": "stream",
          "name": "stdout",
          "text": [
            "Lmax: 33.39, C: 618.07, k: 270.42\n"
          ]
        }
      ]
    }
  ]
}