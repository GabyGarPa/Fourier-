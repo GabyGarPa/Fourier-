{
  "nbformat": 4,
  "nbformat_minor": 0,
  "metadata": {
    "colab": {
      "provenance": [],
      "authorship_tag": "ABX9TyMgrtEk5OLUXw4KxWRH/oQ3",
      "include_colab_link": true
    },
    "kernelspec": {
      "name": "python3",
      "display_name": "Python 3"
    },
    "language_info": {
      "name": "python"
    }
  },
  "cells": [
    {
      "cell_type": "markdown",
      "metadata": {
        "id": "view-in-github",
        "colab_type": "text"
      },
      "source": [
        "<a href=\"https://colab.research.google.com/github/GabyGarPa/Fourier-/blob/main/Untitled0.ipynb\" target=\"_parent\"><img src=\"https://colab.research.google.com/assets/colab-badge.svg\" alt=\"Open In Colab\"/></a>"
      ]
    },
    {
      "cell_type": "markdown",
      "source": [
        "# presentaciones-del-curso\n",
        "presentaciones del curso de temas aplicados de la matemática\n",
        "\n",
        "EXPOSICION 1\n",
        "\n",
        "Serie de Fourier\n",
        "\n",
        "Las series de Fourier son una herramienta matemática que permite descomponer una función periódica en una suma infinita de senos y cosenos. Esta descomposición se puede entender como una representación de la función en términos de ondas sinusoidales de diferentes frecuencias.\n",
        "\n",
        "![image](https://github.com/GabyGarPa/presentaciones-del-curso/assets/144290408/3cdd9d48-cf2d-42e9-8ab2-08184dc16a8c)\n",
        "\n",
        "Transformada de Fourier\n",
        "\n",
        "La transformada de Fourier es una extensión de las series de Fourier para funciones no periódicas. Mientras que las series de Fourier descomponen una función periódica en términos de senos y cosenos, la transformada de Fourier transforma una función del dominio del tiempo (o espacio) al dominio de la frecuencia.\n",
        "\n",
        "![image](https://github.com/GabyGarPa/presentaciones-del-curso/assets/144290408/0d078777-db5d-4ea6-842d-a43702ca656a)\n",
        "![image](https://github.com/GabyGarPa/presentaciones-del-curso/assets/144290408/716f58bf-11be-4875-abd6-8e5cab04a3ac)\n",
        "![image](https://github.com/GabyGarPa/presentaciones-del-curso/assets/144290408/e7119719-f64a-4185-8b88-e6f77f97510e)\n",
        "\n",
        "Problema principal\n",
        "\n",
        "Al transmitir una señal g(t) a través de un canal, hay problemas que pueden surgir debido al ruido del canal y a la no linealidad de ciertos componentes.\n",
        "Las señales de baja amplitud pueden quedar \"enmascaradas\" o no detectadas debido al ruido del canal.\n",
        "Las señales de alta amplitud pueden ser afectadas por la no linealidad de los componentes, lo que puede llevar a distorsiones.\n",
        "\n",
        "Solución propuesta\n",
        "\n",
        "Una solución a este problema es usar un proceso llamado \"companding\" instantáneo. En lugar de transmitir la señal original g(t), se transmite una señal modificada. Esta modificación se realiza utilizando una función ϕ(x) con propiedades específicas.\n",
        "\n",
        "Companding= comprensión-expansión\n",
        "\n",
        "Señales de baja amplitud se amplifiquen y las señales de alta amplitud se atenúen.\n",
        "Entonces esto nos va a permitir que la señal modificada se transmita y después se descomponga en el receptor para recuperar la señal original.\n",
        "\n",
        "Señales de banda limitada\n",
        "\n",
        "Una señal es banda limitada si contiene frecuencias solo en un rango específico. El companding instantáneo puede destruir esta propiedad.\n",
        "Entones se quiere suponer que las señales de banda limitada transmitidas son idénticas\n"
      ],
      "metadata": {
        "id": "6hVSgoiBxhg1"
      }
    },
    {
      "cell_type": "code",
      "source": [
        "# codigo\n",
        "from sympy import symbols, integrate, Function, oo\n",
        "\n",
        "# Definición de las variables y funciones\n",
        "t, u = symbols('t u')\n",
        "g1 = Function('g_1')(t)\n",
        "g2 = Function('g_2')(t)\n",
        "phi1 = Function('phi_1')(u)\n",
        "phi2 = Function('phi_2')(u)\n",
        "\n",
        "# Expresión para la integral\n",
        "expr = (phi1.subs(u, g1) - phi2.subs(u, g2)) * (g1 - g2)\n",
        "\n",
        "# Resolución de la integral\n",
        "result = integrate(expr, (t, -oo, oo))"
      ],
      "metadata": {
        "id": "XVUFr7WNxsyx"
      },
      "execution_count": 3,
      "outputs": []
    }
  ]
}